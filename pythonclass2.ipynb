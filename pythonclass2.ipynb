{
 "cells": [
  {
   "cell_type": "code",
   "execution_count": 1,
   "source": [
    "import array\r\n",
    "for name in array.__dict__:\r\n",
    "    print(name)"
   ],
   "outputs": [
    {
     "output_type": "stream",
     "name": "stdout",
     "text": [
      "__name__\n",
      "__doc__\n",
      "__package__\n",
      "__loader__\n",
      "__spec__\n",
      "_array_reconstructor\n",
      "ArrayType\n",
      "array\n",
      "typecodes\n"
     ]
    }
   ],
   "metadata": {}
  },
  {
   "cell_type": "code",
   "execution_count": 3,
   "source": [
    "def student(student_id, student_name, student_class):\r\n",
    "    return f'Student ID: {student_id}\\nStudent Name: {student_name}\\nclass: {student_class}'\r\n",
    "print(student('V101', 'Hazel Erturk', 'VI'))"
   ],
   "outputs": [
    {
     "output_type": "stream",
     "name": "stdout",
     "text": [
      "Student ID: V101\n",
      "Student Name: Hazel Erturk\n",
      "class: VI\n"
     ]
    }
   ],
   "metadata": {}
  },
  {
   "cell_type": "code",
   "execution_count": 6,
   "source": [
    "class Student:\r\n",
    "    student_id='v101'\r\n",
    "    student_name='Hazel Erturk'\r\n",
    "    def display():\r\n",
    "        print(f'Student_id:{Student.student_id}\\nStudent Name:{Student.student_name}')\r\n",
    "print('Student class attributes')\r\n",
    "Student.display()"
   ],
   "outputs": [
    {
     "output_type": "stream",
     "name": "stdout",
     "text": [
      "Student class attributes\n",
      "Student_id:v101\n",
      "Student Name:Hazel Erturk\n"
     ]
    }
   ],
   "metadata": {}
  },
  {
   "cell_type": "code",
   "execution_count": 13,
   "source": [
    "class py_solution:\r\n",
    "    def int_to_roman(self,num):\r\n",
    "        val = [1000,900,500,400,100,90,50,40,10,9,5,4,1]\r\n",
    "        syb = ['M','CM','D','CD','C','XC','L','XL','X','IX','V','IV','I']\r\n",
    "        roman_num=''\r\n",
    "        i = 0\r\n",
    "        while num > 0 :\r\n",
    "            for _ in range(num // val[i]):\r\n",
    "                roman_num += syb[i]\r\n",
    "                num -= val[i]\r\n",
    "            i += 1\r\n",
    "        return roman_num\r\n",
    "\r\n",
    "print(py_solution().int_to_roman(400))\r\n"
   ],
   "outputs": [
    {
     "output_type": "stream",
     "name": "stdout",
     "text": [
      "CD\n"
     ]
    }
   ],
   "metadata": {}
  },
  {
   "cell_type": "code",
   "execution_count": 16,
   "source": [
    "class permutation:\r\n",
    "    def sub_sets(self,sset):\r\n",
    "        return self.subsetsRecur([], sorted(sset))\r\n",
    "\r\n",
    "    def subsetsRecur(self,current, sset):\r\n",
    "        if sset:\r\n",
    "            return self.subsetsRecur(current, sset[1:]) + self.subsetsRecur(current + [sset[0]], sset[1:])\r\n",
    "        return [current]\r\n",
    "\r\n",
    "print(permutation().sub_sets([4,5,6]))"
   ],
   "outputs": [
    {
     "output_type": "stream",
     "name": "stdout",
     "text": [
      "[[], [6], [5], [5, 6], [4], [4, 6], [4, 5], [4, 5, 6]]\n"
     ]
    }
   ],
   "metadata": {}
  }
 ],
 "metadata": {
  "orig_nbformat": 4,
  "language_info": {
   "name": "python",
   "version": "3.8.3",
   "mimetype": "text/x-python",
   "codemirror_mode": {
    "name": "ipython",
    "version": 3
   },
   "pygments_lexer": "ipython3",
   "nbconvert_exporter": "python",
   "file_extension": ".py"
  },
  "kernelspec": {
   "name": "python3",
   "display_name": "Python 3.8.3 64-bit ('base': conda)"
  },
  "interpreter": {
   "hash": "46182d5f787c7496ac3d2ccd0c5d8bf41bffd3ac5e5e93146af501a7f382c533"
  }
 },
 "nbformat": 4,
 "nbformat_minor": 2
}